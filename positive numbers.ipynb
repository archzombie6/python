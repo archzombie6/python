{
 "cells": [
  {
   "cell_type": "markdown",
   "id": "e6734224",
   "metadata": {},
   "source": [
    "# print POSITIVE NUMBERS IN A RANGE :"
   ]
  },
  {
   "cell_type": "code",
   "execution_count": 1,
   "id": "5b0bd7a0",
   "metadata": {},
   "outputs": [],
   "source": [
    "#list of numbers \n"
   ]
  },
  {
   "cell_type": "code",
   "execution_count": 2,
   "id": "adcf3066",
   "metadata": {},
   "outputs": [
    {
     "name": "stdout",
     "output_type": "stream",
     "text": [
      "positive numbers in list1:\n",
      "12,5,64,"
     ]
    }
   ],
   "source": [
    "list1 = [12,-7,5,64,-14]\n",
    "print (\"positive numbers in list1:\")\n",
    "for num1 in list1 :\n",
    "    if num1>0 :\n",
    "        print(num1,end=\",\")"
   ]
  },
  {
   "cell_type": "code",
   "execution_count": 3,
   "id": "224f9688",
   "metadata": {},
   "outputs": [
    {
     "name": "stdout",
     "output_type": "stream",
     "text": [
      "positive numbers in list 2:\n",
      "12,14,3,"
     ]
    }
   ],
   "source": [
    "list2 = [12,14,-95,3]\n",
    "print (\"positive numbers in list 2:\")\n",
    "for num2 in list2 :\n",
    "    if num2>0:\n",
    "        print(num2,end=\",\")"
   ]
  },
  {
   "cell_type": "code",
   "execution_count": null,
   "id": "0aaa6fce",
   "metadata": {},
   "outputs": [],
   "source": []
  }
 ],
 "metadata": {
  "kernelspec": {
   "display_name": "Python 3",
   "language": "python",
   "name": "python3"
  },
  "language_info": {
   "codemirror_mode": {
    "name": "ipython",
    "version": 3
   },
   "file_extension": ".py",
   "mimetype": "text/x-python",
   "name": "python",
   "nbconvert_exporter": "python",
   "pygments_lexer": "ipython3",
   "version": "3.8.8"
  }
 },
 "nbformat": 4,
 "nbformat_minor": 5
}
