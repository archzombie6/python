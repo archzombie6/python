{
 "cells": [
  {
   "cell_type": "code",
   "execution_count": 1,
   "id": "d97439da",
   "metadata": {},
   "outputs": [],
   "source": [
    "#1st python task "
   ]
  },
  {
   "cell_type": "code",
   "execution_count": 2,
   "id": "ba83cbdf",
   "metadata": {},
   "outputs": [],
   "source": [
    "# To dispay hello world on the screen "
   ]
  },
  {
   "cell_type": "code",
   "execution_count": 4,
   "id": "672b7c45",
   "metadata": {},
   "outputs": [
    {
     "name": "stdout",
     "output_type": "stream",
     "text": [
      "Hello World ! \n"
     ]
    }
   ],
   "source": [
    "print (\"Hello World ! \")"
   ]
  },
  {
   "cell_type": "markdown",
   "id": "3a70a9a2",
   "metadata": {},
   "source": [
    "# 1st Task program "
   ]
  },
  {
   "cell_type": "code",
   "execution_count": null,
   "id": "2c7f5b6a",
   "metadata": {},
   "outputs": [],
   "source": []
  }
 ],
 "metadata": {
  "kernelspec": {
   "display_name": "Python 3",
   "language": "python",
   "name": "python3"
  },
  "language_info": {
   "codemirror_mode": {
    "name": "ipython",
    "version": 3
   },
   "file_extension": ".py",
   "mimetype": "text/x-python",
   "name": "python",
   "nbconvert_exporter": "python",
   "pygments_lexer": "ipython3",
   "version": "3.8.8"
  }
 },
 "nbformat": 4,
 "nbformat_minor": 5
}
