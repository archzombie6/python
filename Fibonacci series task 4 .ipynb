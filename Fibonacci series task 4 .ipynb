{
 "cells": [
  {
   "cell_type": "markdown",
   "id": "1f8875b8",
   "metadata": {},
   "source": [
    "# FIBONACCI SERIES :"
   ]
  },
  {
   "cell_type": "code",
   "execution_count": 2,
   "id": "c8a9f333",
   "metadata": {},
   "outputs": [
    {
     "name": "stdout",
     "output_type": "stream",
     "text": [
      "Enter no of terms:16\n",
      "FIBONACCI SERIES : \n",
      "0\n",
      "1\n",
      "1\n",
      "2\n",
      "3\n",
      "5\n",
      "8\n",
      "13\n",
      "21\n",
      "34\n",
      "55\n",
      "89\n",
      "144\n",
      "233\n",
      "377\n",
      "610\n"
     ]
    }
   ],
   "source": [
    "n=int(input(\"Enter no of terms:\"))\n",
    "n1,n2=0,1\n",
    "count=0\n",
    "if n<=0 :\n",
    "    print(\"Enter a positive number :\")\n",
    "elif n==1 :\n",
    "    print(\"Fibonacci series upto\",n,\"is :\")\n",
    "    print(n1)\n",
    "else :\n",
    "    print(\"FIBONACCI SERIES : \")\n",
    "    while count<n :\n",
    "        print(n1)\n",
    "        r=n1+n2\n",
    "        n1=n2\n",
    "        n2=r\n",
    "        count+=1"
   ]
  },
  {
   "cell_type": "code",
   "execution_count": null,
   "id": "d547f142",
   "metadata": {},
   "outputs": [],
   "source": []
  }
 ],
 "metadata": {
  "kernelspec": {
   "display_name": "Python 3",
   "language": "python",
   "name": "python3"
  },
  "language_info": {
   "codemirror_mode": {
    "name": "ipython",
    "version": 3
   },
   "file_extension": ".py",
   "mimetype": "text/x-python",
   "name": "python",
   "nbconvert_exporter": "python",
   "pygments_lexer": "ipython3",
   "version": "3.8.8"
  }
 },
 "nbformat": 4,
 "nbformat_minor": 5
}
