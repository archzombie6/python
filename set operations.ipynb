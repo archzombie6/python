{
 "cells": [
  {
   "cell_type": "markdown",
   "id": "facc7c2e",
   "metadata": {},
   "source": [
    "# Python program to illustrate different set operations :"
   ]
  },
  {
   "cell_type": "code",
   "execution_count": 1,
   "id": "906da18f",
   "metadata": {},
   "outputs": [],
   "source": [
    "# program to perform different set operation"
   ]
  },
  {
   "cell_type": "code",
   "execution_count": 2,
   "id": "f846bcbf",
   "metadata": {},
   "outputs": [],
   "source": [
    "# define two set variables "
   ]
  },
  {
   "cell_type": "code",
   "execution_count": 3,
   "id": "62cd09f5",
   "metadata": {},
   "outputs": [
    {
     "name": "stdout",
     "output_type": "stream",
     "text": [
      "union of E and N is: {0, 1, 2, 3, 4, 5, 6, 8}\n",
      "intersection of E and N is: {2, 4}\n",
      "difference of E and N is: {0, 8, 6}\n",
      "symmetric difference of E and N is: {0, 1, 3, 5, 6, 8}\n"
     ]
    }
   ],
   "source": [
    "E ={0,2,4,6,8};\n",
    "N ={1,2,3,4,5};\n",
    "#set union\n",
    "print(\"union of E and N is:\",E|N)\n",
    "#set intersection\n",
    "print(\"intersection of E and N is:\",E&N)\n",
    "#set difference\n",
    "print(\"difference of E and N is:\",E-N)\n",
    "#set symmetric difference\n",
    "print(\"symmetric difference of E and N is:\",E^N)\n"
   ]
  },
  {
   "cell_type": "code",
   "execution_count": null,
   "id": "246b523b",
   "metadata": {},
   "outputs": [],
   "source": []
  }
 ],
 "metadata": {
  "kernelspec": {
   "display_name": "Python 3",
   "language": "python",
   "name": "python3"
  },
  "language_info": {
   "codemirror_mode": {
    "name": "ipython",
    "version": 3
   },
   "file_extension": ".py",
   "mimetype": "text/x-python",
   "name": "python",
   "nbconvert_exporter": "python",
   "pygments_lexer": "ipython3",
   "version": "3.8.8"
  }
 },
 "nbformat": 4,
 "nbformat_minor": 5
}
